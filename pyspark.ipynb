{
 "cells": [
  {
   "cell_type": "markdown",
   "source": [
    "# Pyspark"
   ],
   "metadata": {
    "collapsed": false
   },
   "id": "a48b99ce1c7a9d15"
  },
  {
   "cell_type": "markdown",
   "source": [
    "### Instalacja poprzez Conda\n",
    "```\n",
    "conda create -n pyspark_env\n",
    "conda activate pyspark_env\n",
    "conda install -c conda-forge pyspark \n",
    "```\n",
    "#### Dodatkowe wymagania: Oracle Java"
   ],
   "metadata": {
    "collapsed": false
   },
   "id": "5fdefaf3c2df29bd"
  },
  {
   "cell_type": "markdown",
   "source": [
    "# 1. Inicjalizacja sesji PySpark"
   ],
   "metadata": {
    "collapsed": false
   },
   "id": "233ef17882cd6497"
  },
  {
   "cell_type": "code",
   "execution_count": 3,
   "outputs": [
    {
     "data": {
      "text/plain": "<pyspark.sql.session.SparkSession at 0x113b86210>",
      "text/html": "\n            <div>\n                <p><b>SparkSession - in-memory</b></p>\n                \n        <div>\n            <p><b>SparkContext</b></p>\n\n            <p><a href=\"http://192.168.8.147:4040\">Spark UI</a></p>\n\n            <dl>\n              <dt>Version</dt>\n                <dd><code>v3.5.0</code></dd>\n              <dt>Master</dt>\n                <dd><code>local[*]</code></dd>\n              <dt>AppName</dt>\n                <dd><code>App1</code></dd>\n            </dl>\n        </div>\n        \n            </div>\n        "
     },
     "execution_count": 3,
     "metadata": {},
     "output_type": "execute_result"
    }
   ],
   "source": [
    "from pyspark.sql import SparkSession\n",
    "\n",
    "spark = SparkSession.builder.appName('App1').getOrCreate()\n",
    "spark"
   ],
   "metadata": {
    "collapsed": false,
    "ExecuteTime": {
     "end_time": "2023-12-12T12:41:19.252408Z",
     "start_time": "2023-12-12T12:41:19.234617Z"
    }
   },
   "id": "6c5a87be717c3c37"
  },
  {
   "cell_type": "markdown",
   "source": [
    "# 2. DataFrame"
   ],
   "metadata": {
    "collapsed": false
   },
   "id": "43444c4e03c3015d"
  },
  {
   "cell_type": "code",
   "execution_count": 5,
   "outputs": [],
   "source": [
    "from datetime import datetime, date\n",
    "import pandas as pd\n",
    "from pyspark.sql import Row"
   ],
   "metadata": {
    "collapsed": false,
    "ExecuteTime": {
     "end_time": "2023-12-12T12:42:11.786364Z",
     "start_time": "2023-12-12T12:42:11.281312Z"
    }
   },
   "id": "88f621a8cf7e130a"
  },
  {
   "cell_type": "markdown",
   "source": [
    "### Sposób 1: Poprzez listę wierszy"
   ],
   "metadata": {
    "collapsed": false
   },
   "id": "fb30bdeed78c9e82"
  },
  {
   "cell_type": "code",
   "execution_count": 6,
   "outputs": [
    {
     "data": {
      "text/plain": "DataFrame[a: bigint, b: double, c: string, d: date, e: timestamp]"
     },
     "execution_count": 6,
     "metadata": {},
     "output_type": "execute_result"
    }
   ],
   "source": [
    "df = spark.createDataFrame([\n",
    "    Row(a=1, b=2., c='string1', d=date(2000, 1, 1), e=datetime(2000, 1, 1, 12, 0)),\n",
    "    Row(a=2, b=3., c='string2', d=date(2000, 2, 1), e=datetime(2000, 1, 2, 12, 0)),\n",
    "    Row(a=4, b=5., c='string3', d=date(2000, 3, 1), e=datetime(2000, 1, 3, 12, 0))\n",
    "])\n",
    "df"
   ],
   "metadata": {
    "collapsed": false,
    "ExecuteTime": {
     "end_time": "2023-12-12T12:42:14.041358Z",
     "start_time": "2023-12-12T12:42:13.372120Z"
    }
   },
   "id": "81e14e7c80b5dbf0"
  },
  {
   "cell_type": "markdown",
   "source": [
    "### Sposób 2: Poprzez schema"
   ],
   "metadata": {
    "collapsed": false
   },
   "id": "4d485d263354ca9d"
  },
  {
   "cell_type": "code",
   "execution_count": 7,
   "outputs": [
    {
     "data": {
      "text/plain": "DataFrame[a: bigint, b: double, c: string, d: date, e: timestamp]"
     },
     "execution_count": 7,
     "metadata": {},
     "output_type": "execute_result"
    }
   ],
   "source": [
    "df = spark.createDataFrame([\n",
    "    (1, 2., 'string1', date(2000, 1, 1), datetime(2000, 1, 1, 12, 0)),\n",
    "    (2, 3., 'string2', date(2000, 2, 1), datetime(2000, 1, 2, 12, 0)),\n",
    "    (3, 4., 'string3', date(2000, 3, 1), datetime(2000, 1, 3, 12, 0))\n",
    "], schema='a long, b double, c string, d date, e timestamp')\n",
    "df"
   ],
   "metadata": {
    "collapsed": false,
    "ExecuteTime": {
     "end_time": "2023-12-12T12:42:37.929572Z",
     "start_time": "2023-12-12T12:42:37.856384Z"
    }
   },
   "id": "4f4627a0e1066384"
  },
  {
   "cell_type": "markdown",
   "source": [
    "### Sposób 3: Poprzez użycie Pandas DataFrame"
   ],
   "metadata": {
    "collapsed": false
   },
   "id": "b004c051e8381c11"
  },
  {
   "cell_type": "code",
   "execution_count": 8,
   "outputs": [
    {
     "data": {
      "text/plain": "DataFrame[a: bigint, b: double, c: string, d: date, e: timestamp]"
     },
     "execution_count": 8,
     "metadata": {},
     "output_type": "execute_result"
    }
   ],
   "source": [
    "pandas_df = pd.DataFrame({\n",
    "    'a': [1, 2, 3],\n",
    "    'b': [2., 3., 4.],\n",
    "    'c': ['string1', 'string2', 'string3'],\n",
    "    'd': [date(2000, 1, 1), date(2000, 2, 1), date(2000, 3, 1)],\n",
    "    'e': [datetime(2000, 1, 1, 12, 0), datetime(2000, 1, 2, 12, 0), datetime(2000, 1, 3, 12, 0)]\n",
    "})\n",
    "df = spark.createDataFrame(pandas_df)\n",
    "df"
   ],
   "metadata": {
    "collapsed": false,
    "ExecuteTime": {
     "end_time": "2023-12-12T12:42:56.704330Z",
     "start_time": "2023-12-12T12:42:56.625429Z"
    }
   },
   "id": "274e8a5e0122b48f"
  },
  {
   "cell_type": "markdown",
   "source": [
    "### Wyświetlanie DataFrame"
   ],
   "metadata": {
    "collapsed": false
   },
   "id": "c48878bc4e11c927"
  },
  {
   "cell_type": "code",
   "execution_count": 9,
   "outputs": [
    {
     "name": "stderr",
     "output_type": "stream",
     "text": [
      "                                                                                \r"
     ]
    },
    {
     "name": "stdout",
     "output_type": "stream",
     "text": [
      "+---+---+-------+----------+-------------------+\n",
      "|  a|  b|      c|         d|                  e|\n",
      "+---+---+-------+----------+-------------------+\n",
      "|  1|2.0|string1|2000-01-01|2000-01-01 12:00:00|\n",
      "|  2|3.0|string2|2000-02-01|2000-01-02 12:00:00|\n",
      "|  3|4.0|string3|2000-03-01|2000-01-03 12:00:00|\n",
      "+---+---+-------+----------+-------------------+\n"
     ]
    }
   ],
   "source": [
    "df.show()"
   ],
   "metadata": {
    "collapsed": false,
    "ExecuteTime": {
     "end_time": "2023-12-12T12:43:11.057793Z",
     "start_time": "2023-12-12T12:43:08.812184Z"
    }
   },
   "id": "2fb759a82208b1c"
  },
  {
   "cell_type": "code",
   "execution_count": 11,
   "outputs": [
    {
     "name": "stdout",
     "output_type": "stream",
     "text": [
      "+---+---+-------+----------+-------------------+\n",
      "|a  |b  |c      |d         |e                  |\n",
      "+---+---+-------+----------+-------------------+\n",
      "|1  |2.0|string1|2000-01-01|2000-01-01 12:00:00|\n",
      "|2  |3.0|string2|2000-02-01|2000-01-02 12:00:00|\n",
      "|3  |4.0|string3|2000-03-01|2000-01-03 12:00:00|\n",
      "+---+---+-------+----------+-------------------+\n"
     ]
    }
   ],
   "source": [
    "df.show(df.count(), False)"
   ],
   "metadata": {
    "collapsed": false,
    "ExecuteTime": {
     "end_time": "2023-12-12T12:43:41.005158Z",
     "start_time": "2023-12-12T12:43:40.388558Z"
    }
   },
   "id": "304cce2a0daa38f9"
  },
  {
   "cell_type": "code",
   "execution_count": 12,
   "outputs": [
    {
     "data": {
      "text/plain": "DataFrame[a: bigint, b: double, c: string, d: date, e: timestamp]",
      "text/html": "<table border='1'>\n<tr><th>a</th><th>b</th><th>c</th><th>d</th><th>e</th></tr>\n<tr><td>1</td><td>2.0</td><td>string1</td><td>2000-01-01</td><td>2000-01-01 12:00:00</td></tr>\n<tr><td>2</td><td>3.0</td><td>string2</td><td>2000-02-01</td><td>2000-01-02 12:00:00</td></tr>\n<tr><td>3</td><td>4.0</td><td>string3</td><td>2000-03-01</td><td>2000-01-03 12:00:00</td></tr>\n</table>\n"
     },
     "execution_count": 12,
     "metadata": {},
     "output_type": "execute_result"
    }
   ],
   "source": [
    "spark.conf.set('spark.sql.repl.eagerEval.enabled', True)  # Jupyter\n",
    "df"
   ],
   "metadata": {
    "collapsed": false,
    "ExecuteTime": {
     "end_time": "2023-12-12T12:44:10.794275Z",
     "start_time": "2023-12-12T12:44:10.567416Z"
    }
   },
   "id": "19a561e9b762aa5d"
  },
  {
   "cell_type": "code",
   "execution_count": 13,
   "outputs": [
    {
     "name": "stdout",
     "output_type": "stream",
     "text": [
      "root\n",
      " |-- a: long (nullable = true)\n",
      " |-- b: double (nullable = true)\n",
      " |-- c: string (nullable = true)\n",
      " |-- d: date (nullable = true)\n",
      " |-- e: timestamp (nullable = true)\n"
     ]
    }
   ],
   "source": [
    "df.printSchema()"
   ],
   "metadata": {
    "collapsed": false,
    "ExecuteTime": {
     "end_time": "2023-12-12T12:44:22.238979Z",
     "start_time": "2023-12-12T12:44:22.227051Z"
    }
   },
   "id": "448e9299886660ca"
  },
  {
   "cell_type": "code",
   "execution_count": 14,
   "outputs": [
    {
     "data": {
      "text/plain": "[Row(a=1, b=2.0, c='string1', d=datetime.date(2000, 1, 1), e=datetime.datetime(2000, 1, 1, 12, 0))]"
     },
     "execution_count": 14,
     "metadata": {},
     "output_type": "execute_result"
    }
   ],
   "source": [
    "df.take(1)"
   ],
   "metadata": {
    "collapsed": false,
    "ExecuteTime": {
     "end_time": "2023-12-12T12:44:38.561087Z",
     "start_time": "2023-12-12T12:44:38.376472Z"
    }
   },
   "id": "98dd9acbdd7910a7"
  },
  {
   "cell_type": "markdown",
   "source": [
    "### Spark Dataframe konwersja na Pandas"
   ],
   "metadata": {
    "collapsed": false
   },
   "id": "948f9dfb3fcaffb0"
  },
  {
   "cell_type": "code",
   "execution_count": 15,
   "outputs": [
    {
     "data": {
      "text/plain": "   a    b        c           d                   e\n0  1  2.0  string1  2000-01-01 2000-01-01 12:00:00\n1  2  3.0  string2  2000-02-01 2000-01-02 12:00:00\n2  3  4.0  string3  2000-03-01 2000-01-03 12:00:00",
      "text/html": "<div>\n<style scoped>\n    .dataframe tbody tr th:only-of-type {\n        vertical-align: middle;\n    }\n\n    .dataframe tbody tr th {\n        vertical-align: top;\n    }\n\n    .dataframe thead th {\n        text-align: right;\n    }\n</style>\n<table border=\"1\" class=\"dataframe\">\n  <thead>\n    <tr style=\"text-align: right;\">\n      <th></th>\n      <th>a</th>\n      <th>b</th>\n      <th>c</th>\n      <th>d</th>\n      <th>e</th>\n    </tr>\n  </thead>\n  <tbody>\n    <tr>\n      <th>0</th>\n      <td>1</td>\n      <td>2.0</td>\n      <td>string1</td>\n      <td>2000-01-01</td>\n      <td>2000-01-01 12:00:00</td>\n    </tr>\n    <tr>\n      <th>1</th>\n      <td>2</td>\n      <td>3.0</td>\n      <td>string2</td>\n      <td>2000-02-01</td>\n      <td>2000-01-02 12:00:00</td>\n    </tr>\n    <tr>\n      <th>2</th>\n      <td>3</td>\n      <td>4.0</td>\n      <td>string3</td>\n      <td>2000-03-01</td>\n      <td>2000-01-03 12:00:00</td>\n    </tr>\n  </tbody>\n</table>\n</div>"
     },
     "execution_count": 15,
     "metadata": {},
     "output_type": "execute_result"
    }
   ],
   "source": [
    "df.toPandas()"
   ],
   "metadata": {
    "collapsed": false,
    "ExecuteTime": {
     "end_time": "2023-12-12T12:44:52.731524Z",
     "start_time": "2023-12-12T12:44:52.535981Z"
    }
   },
   "id": "64741c314dd4700e"
  },
  {
   "cell_type": "code",
   "execution_count": 16,
   "outputs": [],
   "source": [
    "spark.stop()"
   ],
   "metadata": {
    "collapsed": false,
    "ExecuteTime": {
     "end_time": "2023-12-12T12:45:10.742457Z",
     "start_time": "2023-12-12T12:45:09.794704Z"
    }
   },
   "id": "f5d97f3b3a973ede"
  },
  {
   "cell_type": "code",
   "execution_count": null,
   "outputs": [],
   "source": [],
   "metadata": {
    "collapsed": false
   },
   "id": "af0b07862a1d0864"
  }
 ],
 "metadata": {
  "kernelspec": {
   "display_name": "Python 3",
   "language": "python",
   "name": "python3"
  },
  "language_info": {
   "codemirror_mode": {
    "name": "ipython",
    "version": 2
   },
   "file_extension": ".py",
   "mimetype": "text/x-python",
   "name": "python",
   "nbconvert_exporter": "python",
   "pygments_lexer": "ipython2",
   "version": "2.7.6"
  }
 },
 "nbformat": 4,
 "nbformat_minor": 5
}
