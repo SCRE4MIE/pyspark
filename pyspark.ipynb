{
 "cells": [
  {
   "cell_type": "markdown",
   "source": [
    "# Pyspark"
   ],
   "metadata": {
    "collapsed": false
   },
   "id": "a48b99ce1c7a9d15"
  },
  {
   "cell_type": "code",
   "execution_count": null,
   "outputs": [],
   "source": [],
   "metadata": {
    "collapsed": false,
    "ExecuteTime": {
     "end_time": "2023-12-11T13:49:27.015943Z",
     "start_time": "2023-12-11T13:49:26.998688Z"
    }
   },
   "id": "c93780d60100ccf4"
  }
 ],
 "metadata": {
  "kernelspec": {
   "display_name": "Python 3",
   "language": "python",
   "name": "python3"
  },
  "language_info": {
   "codemirror_mode": {
    "name": "ipython",
    "version": 2
   },
   "file_extension": ".py",
   "mimetype": "text/x-python",
   "name": "python",
   "nbconvert_exporter": "python",
   "pygments_lexer": "ipython2",
   "version": "2.7.6"
  }
 },
 "nbformat": 4,
 "nbformat_minor": 5
}
